{
 "cells": [
  {
   "cell_type": "code",
   "execution_count": 64,
   "id": "2024d29f",
   "metadata": {},
   "outputs": [
    {
     "data": {
      "text/html": [
       "<div>\n",
       "<style scoped>\n",
       "    .dataframe tbody tr th:only-of-type {\n",
       "        vertical-align: middle;\n",
       "    }\n",
       "\n",
       "    .dataframe tbody tr th {\n",
       "        vertical-align: top;\n",
       "    }\n",
       "\n",
       "    .dataframe thead th {\n",
       "        text-align: right;\n",
       "    }\n",
       "</style>\n",
       "<table border=\"1\" class=\"dataframe\">\n",
       "  <thead>\n",
       "    <tr style=\"text-align: right;\">\n",
       "      <th></th>\n",
       "      <th>Id</th>\n",
       "      <th>CityPlusSubscribedOn</th>\n",
       "      <th>CityPlusChurnDate</th>\n",
       "    </tr>\n",
       "  </thead>\n",
       "  <tbody>\n",
       "    <tr>\n",
       "      <th>0</th>\n",
       "      <td>00010429-15d6-4ee2-8b6d-d715dfccf6d4</td>\n",
       "      <td>2019-07-16</td>\n",
       "      <td>NaN</td>\n",
       "    </tr>\n",
       "    <tr>\n",
       "      <th>1</th>\n",
       "      <td>000126b7-63ab-4fd0-81b4-74ac8a62bdf1</td>\n",
       "      <td>2020-01-23</td>\n",
       "      <td>NaN</td>\n",
       "    </tr>\n",
       "    <tr>\n",
       "      <th>2</th>\n",
       "      <td>0001b84a-1ffb-4b07-905e-a7890cfc2f52</td>\n",
       "      <td>2020-02-28</td>\n",
       "      <td>2020-07-07</td>\n",
       "    </tr>\n",
       "    <tr>\n",
       "      <th>3</th>\n",
       "      <td>00023304-195f-405b-9d3c-65506f4ea094</td>\n",
       "      <td>2022-07-23</td>\n",
       "      <td>NaN</td>\n",
       "    </tr>\n",
       "    <tr>\n",
       "      <th>4</th>\n",
       "      <td>0002b4bb-52d3-4404-b5c3-3280ad9e1666</td>\n",
       "      <td>2022-12-17</td>\n",
       "      <td>NaN</td>\n",
       "    </tr>\n",
       "    <tr>\n",
       "      <th>...</th>\n",
       "      <td>...</td>\n",
       "      <td>...</td>\n",
       "      <td>...</td>\n",
       "    </tr>\n",
       "    <tr>\n",
       "      <th>83420</th>\n",
       "      <td>fffbfd64-e814-4009-9991-be732c3dd88e</td>\n",
       "      <td>2020-03-20</td>\n",
       "      <td>NaN</td>\n",
       "    </tr>\n",
       "    <tr>\n",
       "      <th>83421</th>\n",
       "      <td>fffd0320-c044-46bb-a8b1-a121cc79406d</td>\n",
       "      <td>2022-08-28</td>\n",
       "      <td>NaN</td>\n",
       "    </tr>\n",
       "    <tr>\n",
       "      <th>83422</th>\n",
       "      <td>fffe1c44-62a2-4bfe-af44-77dae141db11</td>\n",
       "      <td>2022-08-03</td>\n",
       "      <td>NaN</td>\n",
       "    </tr>\n",
       "    <tr>\n",
       "      <th>83423</th>\n",
       "      <td>fffe63cc-d428-434c-815d-9c78cf82eec8</td>\n",
       "      <td>2022-12-17</td>\n",
       "      <td>NaN</td>\n",
       "    </tr>\n",
       "    <tr>\n",
       "      <th>83424</th>\n",
       "      <td>ffff932f-32d1-4deb-8771-5654a7c94273</td>\n",
       "      <td>2022-08-18</td>\n",
       "      <td>NaN</td>\n",
       "    </tr>\n",
       "  </tbody>\n",
       "</table>\n",
       "<p>83425 rows × 3 columns</p>\n",
       "</div>"
      ],
      "text/plain": [
       "                                         Id CityPlusSubscribedOn  \\\n",
       "0      00010429-15d6-4ee2-8b6d-d715dfccf6d4           2019-07-16   \n",
       "1      000126b7-63ab-4fd0-81b4-74ac8a62bdf1           2020-01-23   \n",
       "2      0001b84a-1ffb-4b07-905e-a7890cfc2f52           2020-02-28   \n",
       "3      00023304-195f-405b-9d3c-65506f4ea094           2022-07-23   \n",
       "4      0002b4bb-52d3-4404-b5c3-3280ad9e1666           2022-12-17   \n",
       "...                                     ...                  ...   \n",
       "83420  fffbfd64-e814-4009-9991-be732c3dd88e           2020-03-20   \n",
       "83421  fffd0320-c044-46bb-a8b1-a121cc79406d           2022-08-28   \n",
       "83422  fffe1c44-62a2-4bfe-af44-77dae141db11           2022-08-03   \n",
       "83423  fffe63cc-d428-434c-815d-9c78cf82eec8           2022-12-17   \n",
       "83424  ffff932f-32d1-4deb-8771-5654a7c94273           2022-08-18   \n",
       "\n",
       "      CityPlusChurnDate  \n",
       "0                   NaN  \n",
       "1                   NaN  \n",
       "2            2020-07-07  \n",
       "3                   NaN  \n",
       "4                   NaN  \n",
       "...                 ...  \n",
       "83420               NaN  \n",
       "83421               NaN  \n",
       "83422               NaN  \n",
       "83423               NaN  \n",
       "83424               NaN  \n",
       "\n",
       "[83425 rows x 3 columns]"
      ]
     },
     "execution_count": 64,
     "metadata": {},
     "output_type": "execute_result"
    }
   ],
   "source": [
    "import pandas as pd\n",
    "\n",
    "cityplus_sub = pd.read_csv(\"CITY+ subscription.csv\")\n",
    "fan_details = pd.read_csv(\"Fan details.csv\")\n",
    "google_analytics = pd.read_csv(\"Google Analytics.csv\")\n",
    "retail_sales = pd.read_csv(\"Retail sales.csv\")\n",
    "cityplus_sub"
   ]
  },
  {
   "cell_type": "code",
   "execution_count": 65,
   "id": "72434996",
   "metadata": {},
   "outputs": [
    {
     "name": "stdout",
     "output_type": "stream",
     "text": [
      "object\n",
      "object\n"
     ]
    }
   ],
   "source": [
    "# Check the type of the \"CityPlusChurnDate\" column in the DataFrame\n",
    "column_type1 = cityplus_sub[\"CityPlusSubscribedOn\"].dtype\n",
    "column_type2 = cityplus_sub[\"CityPlusChurnDate\"].dtype\n",
    "# Print the type\n",
    "\n",
    "print(column_type1)\n",
    "print(column_type2)"
   ]
  },
  {
   "cell_type": "code",
   "execution_count": 75,
   "id": "9fdedc5e",
   "metadata": {},
   "outputs": [
    {
     "name": "stdout",
     "output_type": "stream",
     "text": [
      "datetime64[ns]\n",
      "datetime64[ns]\n"
     ]
    }
   ],
   "source": [
    "# Check the type of the \"CityPlusChurnDate\" column in the DataFrame\n",
    "column_type1 = cityplus_sub[\"CityPlusSubscribedOn\"].dtype\n",
    "column_type2 = cityplus_sub[\"CityPlusChurnDate\"].dtype\n",
    "# Print the type\n",
    "\n",
    "print(column_type1)\n",
    "print(column_type2)"
   ]
  },
  {
   "cell_type": "code",
   "execution_count": 66,
   "id": "525c116c",
   "metadata": {},
   "outputs": [
    {
     "name": "stdout",
     "output_type": "stream",
     "text": [
      "                                     Id CityPlusSubscribedOn CityPlusChurnDate\n",
      "0  00010429-15d6-4ee2-8b6d-d715dfccf6d4           2019-07-16               NaT\n",
      "1  000126b7-63ab-4fd0-81b4-74ac8a62bdf1           2020-01-23               NaT\n",
      "2  0001b84a-1ffb-4b07-905e-a7890cfc2f52           2020-02-28        2020-07-07\n",
      "3  00023304-195f-405b-9d3c-65506f4ea094           2022-07-23               NaT\n",
      "4  0002b4bb-52d3-4404-b5c3-3280ad9e1666           2022-12-17               NaT\n"
     ]
    }
   ],
   "source": [
    "import pandas as pd\n",
    "\n",
    "\n",
    "# Convert \"CityPlusSubscribedOn\" column to date format\n",
    "cityplus_sub[\"CityPlusSubscribedOn\"] = pd.to_datetime(cityplus_sub[\"CityPlusSubscribedOn\"])\n",
    "\n",
    "# Convert \"CityPlusChurnDate\" column to date format\n",
    "cityplus_sub[\"CityPlusChurnDate\"] = pd.to_datetime(cityplus_sub[\"CityPlusChurnDate\"], errors='coerce')\n",
    "\n",
    "\n",
    "print(cityplus_sub.head())\n"
   ]
  },
  {
   "cell_type": "code",
   "execution_count": 67,
   "id": "63d52f82",
   "metadata": {},
   "outputs": [],
   "source": [
    "fan_details[\"Profile_Acquisition_AcquisitionDate\"] = pd.to_datetime(fan_details[\"Profile_Acquisition_AcquisitionDate\"])\n",
    "retail_sales[\"OrderDate\"] = pd.to_datetime(retail_sales[\"OrderDate\"], format='%d/%m/%Y', errors='coerce')\n"
   ]
  },
  {
   "cell_type": "code",
   "execution_count": 68,
   "id": "3760764d",
   "metadata": {},
   "outputs": [
    {
     "name": "stdout",
     "output_type": "stream",
     "text": [
      "datetime64[ns]\n",
      "datetime64[ns, UTC]\n"
     ]
    }
   ],
   "source": [
    "column_fan = fan_details[\"Profile_Acquisition_AcquisitionDate\"].dtype\n",
    "column_retail = retail_sales[\"OrderDate\"].dtype\n",
    "\n",
    "print(column_retail) \n",
    "print(column_fan)"
   ]
  },
  {
   "cell_type": "code",
   "execution_count": 69,
   "id": "efb7726c",
   "metadata": {},
   "outputs": [
    {
     "name": "stdout",
     "output_type": "stream",
     "text": [
      "Total Number of Active Subscribers: 42250\n",
      "Total Number of  Unsubscribers: 41169\n"
     ]
    }
   ],
   "source": [
    "import pandas as pd\n",
    "\n",
    "\n",
    "\n",
    "# Merge the data based on the common identifier (Id)\n",
    "merged_data = pd.merge(cityplus_sub, fan_details, on=\"Id\")\n",
    "\n",
    "# Define the conditions for active subscribers and unsubscribers\n",
    "is_active_subscriber = (merged_data[\"CityPlusSubscribedOn\"].notna()) &\n",
    "(merged_data[\"CityPlusChurnDate\"].isna())\n",
    "\n",
    "is_unsubscriber = merged_data[\"CityPlusChurnDate\"].notna()\n",
    "\n",
    "# Segment the data into active subscribers and unsubscribers\n",
    "active_subscribers = merged_data[is_active_subscriber]\n",
    "unsubscribers = merged_data[is_unsubscriber]\n",
    "\n",
    "# Calculate the total number of active subscribers\n",
    "total_active_subscribers = len(active_subscribers)\n",
    "\n",
    "# Count the number of fans who have unsubscribed (churned)\n",
    "total_unsubscribers= len(unsubscribers)\n",
    "\n",
    "\n",
    "\n",
    "\n",
    "# Display the results\n",
    "print(\"Total Number of Active Subscribers:\", total_active_subscribers)\n",
    "print(\"Total Number of  Unsubscribers:\", total_unsubscribers)"
   ]
  },
  {
   "cell_type": "markdown",
   "id": "92e58020",
   "metadata": {},
   "source": [
    "## Subscription Duration for active subscribers (App_Usage): \n",
    "How long active subscribers have been using the app"
   ]
  },
  {
   "cell_type": "code",
   "execution_count": 70,
   "id": "1321d70e",
   "metadata": {},
   "outputs": [
    {
     "name": "stderr",
     "output_type": "stream",
     "text": [
      "C:\\Users\\Tanu\\AppData\\Local\\Temp\\ipykernel_12584\\725290398.py:7: SettingWithCopyWarning: \n",
      "A value is trying to be set on a copy of a slice from a DataFrame.\n",
      "Try using .loc[row_indexer,col_indexer] = value instead\n",
      "\n",
      "See the caveats in the documentation: https://pandas.pydata.org/pandas-docs/stable/user_guide/indexing.html#returning-a-view-versus-a-copy\n",
      "  active_subscribers[\"CityPlusSubscribedOn\"] = pd.to_datetime(active_subscribers[\"CityPlusSubscribedOn\"])\n",
      "C:\\Users\\Tanu\\AppData\\Local\\Temp\\ipykernel_12584\\725290398.py:10: SettingWithCopyWarning: \n",
      "A value is trying to be set on a copy of a slice from a DataFrame.\n",
      "Try using .loc[row_indexer,col_indexer] = value instead\n",
      "\n",
      "See the caveats in the documentation: https://pandas.pydata.org/pandas-docs/stable/user_guide/indexing.html#returning-a-view-versus-a-copy\n",
      "  active_subscribers[\"SubscriptionDuration\"] = (pd.to_datetime(\"today\") - active_subscribers[\"CityPlusSubscribedOn\"]).dt.days\n"
     ]
    },
    {
     "data": {
      "text/plain": [
       "0        1493\n",
       "1        1302\n",
       "3         390\n",
       "4         243\n",
       "5         667\n",
       "         ... \n",
       "83414    1245\n",
       "83415     354\n",
       "83416     379\n",
       "83417     243\n",
       "83418     364\n",
       "Name: SubscriptionDuration, Length: 42250, dtype: int64"
      ]
     },
     "execution_count": 70,
     "metadata": {},
     "output_type": "execute_result"
    }
   ],
   "source": [
    "import pandas as pd\n",
    "import matplotlib.pyplot as plt\n",
    "\n",
    "# Load your active subscribers data into the 'active_subscribers' DataFrame\n",
    "\n",
    "# Convert the subscription date to datetime\n",
    "active_subscribers[\"CityPlusSubscribedOn\"] = pd.to_datetime(active_subscribers[\"CityPlusSubscribedOn\"])\n",
    "\n",
    "# Calculate the subscription duration in days\n",
    "active_subscribers[\"SubscriptionDuration\"] = (pd.to_datetime(\"today\") - \n",
    "                                              active_subscribers[\"CityPlusSubscribedOn\"]).dt.days\n",
    "\n",
    "active_subscribers[\"SubscriptionDuration\"]"
   ]
  },
  {
   "cell_type": "markdown",
   "id": "a355a173",
   "metadata": {},
   "source": [
    "### Susbcription Duration for unsubscribers: \n",
    "how long fans tend to stay subscribed before churning"
   ]
  },
  {
   "cell_type": "code",
   "execution_count": 71,
   "id": "7f8988a8",
   "metadata": {},
   "outputs": [
    {
     "name": "stderr",
     "output_type": "stream",
     "text": [
      "C:\\Users\\Tanu\\AppData\\Local\\Temp\\ipykernel_12584\\882888165.py:6: SettingWithCopyWarning: \n",
      "A value is trying to be set on a copy of a slice from a DataFrame.\n",
      "Try using .loc[row_indexer,col_indexer] = value instead\n",
      "\n",
      "See the caveats in the documentation: https://pandas.pydata.org/pandas-docs/stable/user_guide/indexing.html#returning-a-view-versus-a-copy\n",
      "  unsubscribers.loc[:, \"SubscriptionDuration\"] = (unsubscribers[\"CityPlusChurnDate\"] - unsubscribers[\"CityPlusSubscribedOn\"]).dt.days\n"
     ]
    }
   ],
   "source": [
    "# Convert the date columns to datetime format for unsubscribers\n",
    "unsubscribers.loc[:, \"CityPlusSubscribedOn\"] = pd.to_datetime(unsubscribers[\"CityPlusSubscribedOn\"])\n",
    "unsubscribers.loc[:, \"CityPlusChurnDate\"] = pd.to_datetime(unsubscribers[\"CityPlusChurnDate\"])\n",
    "\n",
    "# Calculate subscription duration for unsubscribers\n",
    "unsubscribers.loc[:, \"SubscriptionDuration\"] = (unsubscribers[\"CityPlusChurnDate\"] - \n",
    "                                                unsubscribers[\"CityPlusSubscribedOn\"]).dt.days\n",
    "\n",
    "# Create a new DataFrame with the relevant columns for unsubscribers\n",
    "unsubscribers_subscription_duration_df = unsubscribers[[\"Id\", \"CityPlusSubscribedOn\", \n",
    "                                                        \"CityPlusChurnDate\", \"SubscriptionDuration\"]].copy()\n",
    "\n"
   ]
  },
  {
   "cell_type": "code",
   "execution_count": 66,
   "id": "18369644",
   "metadata": {},
   "outputs": [
    {
     "data": {
      "text/html": [
       "<div>\n",
       "<style scoped>\n",
       "    .dataframe tbody tr th:only-of-type {\n",
       "        vertical-align: middle;\n",
       "    }\n",
       "\n",
       "    .dataframe tbody tr th {\n",
       "        vertical-align: top;\n",
       "    }\n",
       "\n",
       "    .dataframe thead th {\n",
       "        text-align: right;\n",
       "    }\n",
       "</style>\n",
       "<table border=\"1\" class=\"dataframe\">\n",
       "  <thead>\n",
       "    <tr style=\"text-align: right;\">\n",
       "      <th></th>\n",
       "      <th>Id</th>\n",
       "      <th>CityPlusSubscribedOn</th>\n",
       "      <th>CityPlusChurnDate</th>\n",
       "      <th>SubscriptionDuration</th>\n",
       "    </tr>\n",
       "  </thead>\n",
       "  <tbody>\n",
       "    <tr>\n",
       "      <th>2</th>\n",
       "      <td>0001b84a-1ffb-4b07-905e-a7890cfc2f52</td>\n",
       "      <td>2020-02-28</td>\n",
       "      <td>2020-07-07</td>\n",
       "      <td>130</td>\n",
       "    </tr>\n",
       "    <tr>\n",
       "      <th>11</th>\n",
       "      <td>00071e56-135b-4d31-bb6f-99575d7e86ae</td>\n",
       "      <td>2019-07-27</td>\n",
       "      <td>2020-07-07</td>\n",
       "      <td>346</td>\n",
       "    </tr>\n",
       "    <tr>\n",
       "      <th>12</th>\n",
       "      <td>00077f9f-20fe-40e1-9e1d-dcf46cbd352d</td>\n",
       "      <td>2020-10-24</td>\n",
       "      <td>2022-03-31</td>\n",
       "      <td>523</td>\n",
       "    </tr>\n",
       "    <tr>\n",
       "      <th>15</th>\n",
       "      <td>0009dbc7-0556-4a66-9604-f15ec5b98fd3</td>\n",
       "      <td>2020-06-27</td>\n",
       "      <td>2020-08-11</td>\n",
       "      <td>45</td>\n",
       "    </tr>\n",
       "    <tr>\n",
       "      <th>18</th>\n",
       "      <td>000bc87e-b3c4-43b4-81b1-5a9c1d1f6a46</td>\n",
       "      <td>2021-05-18</td>\n",
       "      <td>2021-10-02</td>\n",
       "      <td>137</td>\n",
       "    </tr>\n",
       "    <tr>\n",
       "      <th>...</th>\n",
       "      <td>...</td>\n",
       "      <td>...</td>\n",
       "      <td>...</td>\n",
       "      <td>...</td>\n",
       "    </tr>\n",
       "    <tr>\n",
       "      <th>83402</th>\n",
       "      <td>fff2208a-8c34-4e9c-a08e-409ada60e539</td>\n",
       "      <td>2023-04-12</td>\n",
       "      <td>2023-05-27</td>\n",
       "      <td>45</td>\n",
       "    </tr>\n",
       "    <tr>\n",
       "      <th>83403</th>\n",
       "      <td>fff27f8a-e9ed-4cf0-9f74-9f92a9577415</td>\n",
       "      <td>2020-03-02</td>\n",
       "      <td>2021-09-06</td>\n",
       "      <td>553</td>\n",
       "    </tr>\n",
       "    <tr>\n",
       "      <th>83404</th>\n",
       "      <td>fff3e854-382d-4b1a-b4ec-16803090b4a7</td>\n",
       "      <td>2021-07-27</td>\n",
       "      <td>2022-09-12</td>\n",
       "      <td>412</td>\n",
       "    </tr>\n",
       "    <tr>\n",
       "      <th>83405</th>\n",
       "      <td>fff4ac36-2c38-4dcb-aa4e-7775d752f2d5</td>\n",
       "      <td>2021-07-31</td>\n",
       "      <td>2021-08-04</td>\n",
       "      <td>4</td>\n",
       "    </tr>\n",
       "    <tr>\n",
       "      <th>83406</th>\n",
       "      <td>fff787ce-8ee3-47e9-9986-c08da05ef84c</td>\n",
       "      <td>2021-07-27</td>\n",
       "      <td>2022-02-11</td>\n",
       "      <td>199</td>\n",
       "    </tr>\n",
       "  </tbody>\n",
       "</table>\n",
       "<p>41169 rows × 4 columns</p>\n",
       "</div>"
      ],
      "text/plain": [
       "                                         Id CityPlusSubscribedOn  \\\n",
       "2      0001b84a-1ffb-4b07-905e-a7890cfc2f52           2020-02-28   \n",
       "11     00071e56-135b-4d31-bb6f-99575d7e86ae           2019-07-27   \n",
       "12     00077f9f-20fe-40e1-9e1d-dcf46cbd352d           2020-10-24   \n",
       "15     0009dbc7-0556-4a66-9604-f15ec5b98fd3           2020-06-27   \n",
       "18     000bc87e-b3c4-43b4-81b1-5a9c1d1f6a46           2021-05-18   \n",
       "...                                     ...                  ...   \n",
       "83402  fff2208a-8c34-4e9c-a08e-409ada60e539           2023-04-12   \n",
       "83403  fff27f8a-e9ed-4cf0-9f74-9f92a9577415           2020-03-02   \n",
       "83404  fff3e854-382d-4b1a-b4ec-16803090b4a7           2021-07-27   \n",
       "83405  fff4ac36-2c38-4dcb-aa4e-7775d752f2d5           2021-07-31   \n",
       "83406  fff787ce-8ee3-47e9-9986-c08da05ef84c           2021-07-27   \n",
       "\n",
       "      CityPlusChurnDate  SubscriptionDuration  \n",
       "2            2020-07-07                   130  \n",
       "11           2020-07-07                   346  \n",
       "12           2022-03-31                   523  \n",
       "15           2020-08-11                    45  \n",
       "18           2021-10-02                   137  \n",
       "...                 ...                   ...  \n",
       "83402        2023-05-27                    45  \n",
       "83403        2021-09-06                   553  \n",
       "83404        2022-09-12                   412  \n",
       "83405        2021-08-04                     4  \n",
       "83406        2022-02-11                   199  \n",
       "\n",
       "[41169 rows x 4 columns]"
      ]
     },
     "execution_count": 66,
     "metadata": {},
     "output_type": "execute_result"
    }
   ],
   "source": [
    "unsubscribers_subscription_duration_df\n"
   ]
  },
  {
   "cell_type": "code",
   "execution_count": 72,
   "id": "9cd6c8f9",
   "metadata": {},
   "outputs": [
    {
     "name": "stdout",
     "output_type": "stream",
     "text": [
      "['Id', 'CityPlusSubscribedOn', 'CityPlusChurnDate', 'Profile_Demographic_Age', 'Profile_Acquisition_AcquisitionDate', 'SubscriptionDuration']\n"
     ]
    }
   ],
   "source": [
    "active_subscribers_columns = active_subscribers.columns.tolist()\n",
    "\n",
    "# Print the list of columns\n",
    "print(active_subscribers_columns)\n"
   ]
  },
  {
   "cell_type": "code",
   "execution_count": 73,
   "id": "84646b8b",
   "metadata": {},
   "outputs": [],
   "source": [
    "import pandas as pd\n",
    "\n",
    "# Assuming this is the structure of your active_subscribers DataFrame\n",
    "active_subscribers_columns = active_subscribers.columns.tolist()\n",
    "\n",
    "# Create a DataFrame to store the columns list\n",
    "columns_df = pd.DataFrame({\"Column Names\": active_subscribers_columns})\n",
    "\n",
    "\n",
    "active_subscribers.to_csv(\"active_subscribers_data.csv\", index=False)\n",
    "\n"
   ]
  },
  {
   "cell_type": "code",
   "execution_count": 74,
   "id": "c454c475",
   "metadata": {},
   "outputs": [
    {
     "name": "stdout",
     "output_type": "stream",
     "text": [
      "['Id', 'CityPlusSubscribedOn', 'CityPlusChurnDate', 'Profile_Demographic_Age', 'Profile_Acquisition_AcquisitionDate', 'SubscriptionDuration']\n"
     ]
    }
   ],
   "source": [
    "unsubscribers_columns = unsubscribers.columns.tolist()\n",
    "print(unsubscribers_columns)\n",
    "columns_df = pd.DataFrame({\"Column Names\": unsubscribers_columns})\n",
    "\n",
    "# Export the DataFrame to a CSV file\n",
    "unsubscribers.to_csv(\"unsubscribers_data.csv\", index=False)"
   ]
  }
 ],
 "metadata": {
  "kernelspec": {
   "display_name": "Python 3 (ipykernel)",
   "language": "python",
   "name": "python3"
  },
  "language_info": {
   "codemirror_mode": {
    "name": "ipython",
    "version": 3
   },
   "file_extension": ".py",
   "mimetype": "text/x-python",
   "name": "python",
   "nbconvert_exporter": "python",
   "pygments_lexer": "ipython3",
   "version": "3.11.3"
  }
 },
 "nbformat": 4,
 "nbformat_minor": 5
}
